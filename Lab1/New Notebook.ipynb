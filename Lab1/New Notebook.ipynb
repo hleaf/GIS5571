{
 "cells": [
  {
   "cell_type": "code",
   "execution_count": 102,
   "metadata": {},
   "outputs": [],
   "source": [
    "import arcpy\n",
    "import json\n",
    "import pprint\n",
    "import urllib\n",
    "import ssl\n",
    "import os\n",
    "## import urllib2"
   ]
  },
  {
   "cell_type": "code",
   "execution_count": 103,
   "metadata": {},
   "outputs": [],
   "source": [
    "#allow unverified SSL context\n",
    "ssl._create_default_https_context = ssl._create_unverified_context"
   ]
  },
  {
   "cell_type": "code",
   "execution_count": 104,
   "metadata": {},
   "outputs": [],
   "source": [
    "#initialize dictionary for metro counties from MnGeo\n",
    "counties_dict = {\n",
    "    'name': 'metro_counties',\n",
    "    'notes': \"Dataset from MnGeo for metro county and CTU boundaries\"\n",
    "}"
   ]
  },
  {
   "cell_type": "code",
   "execution_count": 105,
   "metadata": {},
   "outputs": [],
   "source": [
    "#use JSON module to dump the dictionary to a string for posting\n",
    "counties_string = urllib.request.quote(json.dumps(counties_dict))"
   ]
  },
  {
   "cell_type": "code",
   "execution_count": 106,
   "metadata": {},
   "outputs": [],
   "source": [
    "#create a new dataset using package_create\n",
    "request = urllib.request.Request('https://gisdata.mn.gov/api/action/package_create')"
   ]
  },
  {
   "cell_type": "code",
   "execution_count": 107,
   "metadata": {},
   "outputs": [],
   "source": [
    "#authorize with API credentials\n",
    "request.add_header('Authorization', '4d517974-6e8a-43e1-b031-d181ee8a702b')"
   ]
  },
  {
   "cell_type": "code",
   "execution_count": 108,
   "metadata": {},
   "outputs": [],
   "source": [
    "#use JSON module to load reponse into a dictionary\n",
    "response_dict = json.loads(response.read())\n",
    "assert response_dict['success'] is True"
   ]
  },
  {
   "cell_type": "code",
   "execution_count": 109,
   "metadata": {},
   "outputs": [],
   "source": [
    "#make HTTP request for group list\n",
    "response = urllib.request.urlopen('https://gisdata.mn.gov/api/action/group_list')\n",
    "assert response.code == 200"
   ]
  },
  {
   "cell_type": "code",
   "execution_count": 110,
   "metadata": {},
   "outputs": [],
   "source": [
    "#make HTTP request for package search: boundaries\n",
    "response = urllib.request.urlopen('https://gisdata.mn.gov/api/action/package_search?q=boundaries')\n",
    "assert response.code == 200"
   ]
  },
  {
   "cell_type": "code",
   "execution_count": 111,
   "metadata": {},
   "outputs": [],
   "source": [
    "#make HTTP request for package - county boundaries\n",
    "response = urllib.request.urlopen('https://gisdata.mn.gov/api/action/package_show?id=d199886f-474f-4fe0-aba4-c7071ab92a35')\n",
    "assert response.code == 200"
   ]
  },
  {
   "cell_type": "code",
   "execution_count": 112,
   "metadata": {},
   "outputs": [
    {
     "name": "stdout",
     "output_type": "stream",
     "text": [
      "{'author': None,\n",
      " 'author_email': None,\n",
      " 'creator_user_id': '61044ca7-ee56-4019-aef7-f7c3b5e06e3a',\n",
      " 'extras': [{'key': 'dsAccessConst', 'value': 'None'},\n",
      "            {'key': 'dsCurrentRef',\n",
      "             'value': 'Data is published weekly to the GeoCommons, but maybe '\n",
      "                      'maintained on a different cycle.  Open package to '\n",
      "                      'review specific layer for more detail.'},\n",
      "            {'key': 'dsMetadataUrl',\n",
      "             'value': 'https://resources.gisdata.mn.gov/pub/gdrs/data/pub/us_mn_state_dot/bdry_counties/metadata/metadata.html'},\n",
      "            {'key': 'dsModifiedDate', 'value': '2021-09-30 00:02:30'},\n",
      "            {'key': 'dsOriginator',\n",
      "             'value': 'Minnesota Department of Transportation'},\n",
      "            {'key': 'dsPurpose',\n",
      "             'value': 'The purpose of this dataset is to spatially represent '\n",
      "                      'the county boundaries and use as reference for other '\n",
      "                      'layers spatially dependent on county boundaries (ex. '\n",
      "                      'ATP boundaries).  '},\n",
      "            {'key': 'gdrsDsGuid',\n",
      "             'value': '{a4dec0b1-3cd4-4a72-bd37-73bb3591e6e4}'},\n",
      "            {'key': 'spatial',\n",
      "             'value': '{\"type\":\"Polygon\",\"coordinates\":[[[-97.508970, '\n",
      "                      '43.192405],[-97.508970, 49.652543], [-89.028990, '\n",
      "                      '49.652543], [-89.028990, 43.192405], [-97.508970, '\n",
      "                      '43.192405]]]}'}],\n",
      " 'groups': [{'description': 'Legal land descriptions. Examples: political and '\n",
      "                            'administrative boundaries',\n",
      "             'display_name': 'Boundaries',\n",
      "             'id': '8c21f853-3cdd-4be6-9020-e22ae192dcb4',\n",
      "             'image_display_url': 'https://gisdata.mn.gov/categoryIcons/boundary.png',\n",
      "             'name': 'boundaries',\n",
      "             'title': 'Boundaries'}],\n",
      " 'id': 'd199886f-474f-4fe0-aba4-c7071ab92a35',\n",
      " 'isopen': False,\n",
      " 'license_id': 'notspecified',\n",
      " 'license_title': 'License not specified',\n",
      " 'maintainer': None,\n",
      " 'maintainer_email': None,\n",
      " 'metadata_created': '2019-02-02T11:02:34.138261',\n",
      " 'metadata_modified': '2021-09-30T08:03:29.011306',\n",
      " 'name': 'bdry-counties',\n",
      " 'notes': 'This dataset represents the county boundaries, as recognized by the '\n",
      "          'Minnesota Department of Transportation.  There are 87 counties in '\n",
      "          'Minnesota.  ',\n",
      " 'num_resources': 4,\n",
      " 'num_tags': 3,\n",
      " 'organization': {'approval_status': 'approved',\n",
      "                  'created': '2014-06-23T14:40:37.924549',\n",
      "                  'description': 'Plan, build, operate and maintain a safe, '\n",
      "                                 'accessible, efficient and reliable '\n",
      "                                 'multimodal transportation system that '\n",
      "                                 'connects people to destinations and markets '\n",
      "                                 'throughout the state, regionally and around '\n",
      "                                 'the world.',\n",
      "                  'id': '9bbcf063-57fd-4645-a7ab-04e4a695650e',\n",
      "                  'image_url': 'https://gisdata.mn.gov/agencyLogos/mnLogo.jpg',\n",
      "                  'is_organization': True,\n",
      "                  'name': 'us-mn-state-dot',\n",
      "                  'revision_id': '042587cb-8007-43f5-ad18-afa2130e4eb9',\n",
      "                  'state': 'active',\n",
      "                  'title': 'Transportation Department',\n",
      "                  'type': 'organization'},\n",
      " 'owner_org': '9bbcf063-57fd-4645-a7ab-04e4a695650e',\n",
      " 'private': False,\n",
      " 'relationships_as_object': [],\n",
      " 'relationships_as_subject': [],\n",
      " 'resources': [{'cache_last_updated': None,\n",
      "                'cache_url': None,\n",
      "                'created': '2021-09-30T08:03:29.473708',\n",
      "                'description': '',\n",
      "                'format': 'gpkg',\n",
      "                'gdrsResGuid': '{34088385-545d-4a0e-ba80-9917de058697}',\n",
      "                'hash': '',\n",
      "                'id': '20ffd832-abda-41b9-8031-2d8007eb25d1',\n",
      "                'last_modified': None,\n",
      "                'mimetype': None,\n",
      "                'mimetype_inner': None,\n",
      "                'name': 'OGC GeoPackage',\n",
      "                'package_id': 'd199886f-474f-4fe0-aba4-c7071ab92a35',\n",
      "                'position': 0,\n",
      "                'resource_type': 'gpkg',\n",
      "                'revision_id': '615c16dc-7973-41ef-a9d7-30f17fa85c98',\n",
      "                'size': None,\n",
      "                'state': 'active',\n",
      "                'url': 'https://resources.gisdata.mn.gov/pub/gdrs/data/pub/us_mn_state_dot/bdry_counties/gpkg_bdry_counties.zip',\n",
      "                'url_type': None},\n",
      "               {'cache_last_updated': None,\n",
      "                'cache_url': None,\n",
      "                'created': '2021-09-30T08:03:29.473717',\n",
      "                'description': '',\n",
      "                'format': 'SHP',\n",
      "                'gdrsResGuid': '{193ffe92-b31a-4221-96ba-92da9d5ca5e2}',\n",
      "                'hash': '',\n",
      "                'id': 'e8a163a2-874c-44f0-8f02-a382a07c8c13',\n",
      "                'last_modified': None,\n",
      "                'mimetype': None,\n",
      "                'mimetype_inner': None,\n",
      "                'name': 'Shapefile',\n",
      "                'package_id': 'd199886f-474f-4fe0-aba4-c7071ab92a35',\n",
      "                'position': 1,\n",
      "                'resource_type': 'shp',\n",
      "                'revision_id': '615c16dc-7973-41ef-a9d7-30f17fa85c98',\n",
      "                'size': None,\n",
      "                'state': 'active',\n",
      "                'url': 'https://resources.gisdata.mn.gov/pub/gdrs/data/pub/us_mn_state_dot/bdry_counties/shp_bdry_counties.zip',\n",
      "                'url_type': None},\n",
      "               {'cache_last_updated': None,\n",
      "                'cache_url': None,\n",
      "                'created': '2021-09-30T08:03:29.473722',\n",
      "                'description': '',\n",
      "                'format': 'fgdb',\n",
      "                'gdrsResGuid': '{24e4ec6f-42fc-4195-9498-066f89f6c885}',\n",
      "                'hash': '',\n",
      "                'id': '253e9e14-36ab-49fb-9fe6-2f722ee59aac',\n",
      "                'last_modified': None,\n",
      "                'mimetype': None,\n",
      "                'mimetype_inner': None,\n",
      "                'name': 'ESRI File Geodatabase',\n",
      "                'package_id': 'd199886f-474f-4fe0-aba4-c7071ab92a35',\n",
      "                'position': 2,\n",
      "                'resource_type': 'fgdb',\n",
      "                'revision_id': '615c16dc-7973-41ef-a9d7-30f17fa85c98',\n",
      "                'size': None,\n",
      "                'state': 'active',\n",
      "                'url': 'https://resources.gisdata.mn.gov/pub/gdrs/data/pub/us_mn_state_dot/bdry_counties/fgdb_bdry_counties.zip',\n",
      "                'url_type': None},\n",
      "               {'cache_last_updated': None,\n",
      "                'cache_url': None,\n",
      "                'created': '2021-09-30T08:03:29.473726',\n",
      "                'description': '',\n",
      "                'format': 'HTML',\n",
      "                'gdrsResGuid': 'None',\n",
      "                'hash': '',\n",
      "                'id': '19a636f1-cde7-446d-a7c3-bbfa7fb062b5',\n",
      "                'last_modified': None,\n",
      "                'mimetype': None,\n",
      "                'mimetype_inner': None,\n",
      "                'name': 'Full Metadata Record',\n",
      "                'package_id': 'd199886f-474f-4fe0-aba4-c7071ab92a35',\n",
      "                'position': 3,\n",
      "                'resource_type': 'metadata',\n",
      "                'revision_id': '615c16dc-7973-41ef-a9d7-30f17fa85c98',\n",
      "                'size': None,\n",
      "                'state': 'active',\n",
      "                'url': 'https://resources.gisdata.mn.gov/pub/gdrs/data/pub/us_mn_state_dot/bdry_counties/metadata/metadata.html',\n",
      "                'url_type': None}],\n",
      " 'revision_id': '615f9bdb-391c-4821-ae85-09cc03306f17',\n",
      " 'state': 'active',\n",
      " 'tags': [{'display_name': 'boundaries',\n",
      "           'id': 'a054e4b7-535f-408d-a362-fc95e83cc6ff',\n",
      "           'name': 'boundaries',\n",
      "           'state': 'active',\n",
      "           'vocabulary_id': None},\n",
      "          {'display_name': 'county',\n",
      "           'id': '8fa597bd-11e0-450e-9f24-13ed29ae4cda',\n",
      "           'name': 'county',\n",
      "           'state': 'active',\n",
      "           'vocabulary_id': None},\n",
      "          {'display_name': 'minnesota',\n",
      "           'id': 'c827b071-6b34-4b55-87f1-27648acf528e',\n",
      "           'name': 'minnesota',\n",
      "           'state': 'active',\n",
      "           'vocabulary_id': None}],\n",
      " 'title': 'County Boundaries in Minnesota',\n",
      " 'type': 'dataset',\n",
      " 'url': None,\n",
      " 'version': None}\n"
     ]
    }
   ],
   "source": [
    "#package_create returns the created package as its result\n",
    "created_package = response_dict['result']\n",
    "pprint.pprint(created_package)"
   ]
  },
  {
   "cell_type": "code",
   "execution_count": 113,
   "metadata": {},
   "outputs": [],
   "source": [
    "arcpy.management.CreateFileGDB(r\"C:\\Users\\Holly Leaf\\GIS5571\\Lab1\\GIS 5571 Lab 1\", \"Lab1.gdb\")\n",
    "arcpy.env.workspace = r\"C:\\Users\\Holly Leaf\\GIS5571\\Lab1\\GIS 5571 Lab 1/Lab1.gbd\""
   ]
  },
  {
   "cell_type": "code",
   "execution_count": 116,
   "metadata": {},
   "outputs": [
    {
     "ename": "RuntimeError",
     "evalue": "Object: Error in executing tool",
     "output_type": "error",
     "traceback": [
      "\u001b[0;31m---------------------------------------------------------------------------\u001b[0m\n\u001b[0;31mRuntimeError\u001b[0m                              Traceback (most recent call last)",
      "In  \u001b[0;34m[116]\u001b[0m:\nLine \u001b[0;34m1\u001b[0m:     arcpy.JSONToFeatures_conversion(created_package, os.path.join(\u001b[33m\"\u001b[39;49;00m\u001b[33mlab1.gdb\u001b[39;49;00m\u001b[33m\"\u001b[39;49;00m,\u001b[33m\"\u001b[39;49;00m\u001b[33mmyfeatures\u001b[39;49;00m\u001b[33m\"\u001b[39;49;00m))\n",
      "File \u001b[0;34mc:\\program files\\arcgis\\pro\\Resources\\arcpy\\arcpy\\conversion.py\u001b[0m, in \u001b[0;32mJSONToFeatures\u001b[0m:\nLine \u001b[0;34m524\u001b[0m:   \u001b[34mraise\u001b[39;49;00m e\n",
      "File \u001b[0;34mc:\\program files\\arcgis\\pro\\Resources\\arcpy\\arcpy\\conversion.py\u001b[0m, in \u001b[0;32mJSONToFeatures\u001b[0m:\nLine \u001b[0;34m521\u001b[0m:   retval = convertArcObjectToPythonObject(gp.JSONToFeatures_conversion(*gp_fixargs((in_json_file, out_features, geometry_type), \u001b[34mTrue\u001b[39;49;00m)))\n",
      "File \u001b[0;34mc:\\program files\\arcgis\\pro\\Resources\\arcpy\\arcpy\\geoprocessing\\_base.py\u001b[0m, in \u001b[0;32m<lambda>\u001b[0m:\nLine \u001b[0;34m511\u001b[0m:   \u001b[34mreturn\u001b[39;49;00m \u001b[34mlambda\u001b[39;49;00m *args: val(*gp_fixargs(args, \u001b[34mTrue\u001b[39;49;00m))\n",
      "\u001b[0;31mRuntimeError\u001b[0m: Object: Error in executing tool\n\u001b[0;31m---------------------------------------------------------------------------\u001b[0m"
     ]
    }
   ],
   "source": [
    "#RESULTS IN ERROR - How to get from JSON to imported Feature Class\n",
    "#Until error is resolved, features will be added using the ArcGIS GUI to continue lab requirements\n",
    "arcpy.JSONToFeatures_conversion(created_package, os.path.join(\"lab1.gdb\",\"myfeatures\"))"
   ]
  },
  {
   "cell_type": "code",
   "execution_count": 128,
   "metadata": {},
   "outputs": [
    {
     "data": {
      "text/plain": [
       "True"
      ]
     },
     "execution_count": 128,
     "metadata": {},
     "output_type": "execute_result"
    }
   ],
   "source": [
    "#ArcPy check if feature classes use same coordinate system\n",
    "fc1 = 'my_neighborhood_sites'\n",
    "fc2 = 'Census2020Counties'\n",
    "sr1 = arcpy.Describe(fc1).spatialReference\n",
    "sr2 = arcpy.Describe(fc2).spatialReference\n",
    "sr1.name == sr2.name"
   ]
  },
  {
   "cell_type": "code",
   "execution_count": 129,
   "metadata": {},
   "outputs": [
    {
     "data": {
      "text/html": [
       "<h2>Output</h2>C:\\Users\\Holly Leaf\\GIS5571\\Lab1\\GIS 5571 Lab 1\\GIS 5571 Lab 1.gdb\\MPCA_in_metro_counties<h2>Messages</h2>Start Time: Wednesday, October 6, 2021 2:37:31 PM<br/>Succeeded at Wednesday, October 6, 2021 2:37:40 PM (Elapsed Time: 8.93 seconds)<br/><style>.rendered_html td, .rendered_html th {text-align: left;}.rendered_html tbody {border: 1px solid black;}</style>"
      ],
      "text/plain": [
       "<Result 'C:\\\\Users\\\\Holly Leaf\\\\GIS5571\\\\Lab1\\\\GIS 5571 Lab 1\\\\GIS 5571 Lab 1.gdb\\\\MPCA_in_metro_counties'>"
      ]
     },
     "execution_count": 129,
     "metadata": {},
     "output_type": "execute_result"
    }
   ],
   "source": [
    "#ArcPy spatial join\n",
    "#metro counties joined with MPCA sites\n",
    "arcpy.analysis.SpatialJoin('my_neighborhood_sites', 'Census2020Counties', 'MPCA_in_metro_counties', 'JOIN_ONE_TO_MANY', 'KEEP_COMMON', field_mapping = 'count', match_option=\"WITHIN\")"
   ]
  },
  {
   "cell_type": "code",
   "execution_count": 130,
   "metadata": {},
   "outputs": [
    {
     "name": "stdout",
     "output_type": "stream",
     "text": [
      "OBJECTID\n",
      "Shape\n",
      "Join_Count\n",
      "TARGET_FID\n",
      "JOIN_FID\n",
      "count\n"
     ]
    }
   ],
   "source": [
    "#print merged attribute headers\n",
    "desc = arcpy.Describe(\"MPCA_in_metro_counties\")\n",
    "for field in desc.fields:\n",
    "    print(field.name)"
   ]
  },
  {
   "cell_type": "code",
   "execution_count": null,
   "metadata": {},
   "outputs": [],
   "source": []
  }
 ],
 "metadata": {
  "kernelspec": {
   "display_name": "ArcGISPro",
   "language": "Python",
   "name": "python3"
  },
  "language_info": {
   "file_extension": ".py",
   "name": "python",
   "version": "3"
  }
 },
 "nbformat": 4,
 "nbformat_minor": 2
}
