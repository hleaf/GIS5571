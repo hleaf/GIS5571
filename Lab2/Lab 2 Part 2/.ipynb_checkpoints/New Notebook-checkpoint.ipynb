{
 "cells": [
  {
   "cell_type": "code",
   "execution_count": 1,
   "metadata": {},
   "outputs": [],
   "source": [
    "import arcpy"
   ]
  },
  {
   "cell_type": "code",
   "execution_count": 2,
   "metadata": {},
   "outputs": [
    {
     "data": {
      "text/html": [
       "<h2>Output</h2>C:\\Users\\Holly Leaf\\GIS5571\\Lab2\\Lab 2 Part 2\\Lab 2 Part 2.gdb\\dnr_rivers_and_streams_Buffe<h2>Messages</h2>Start Time: Wednesday, October 27, 2021 10:29:56 AM<br/>Succeeded at Wednesday, October 27, 2021 10:31:56 AM (Elapsed Time: 1 minutes 59 seconds)<br/><style>.rendered_html td, .rendered_html th {text-align: left;}.rendered_html tbody {border: 1px solid black;}</style>"
      ],
      "text/plain": [
       "<Result 'C:\\\\Users\\\\Holly Leaf\\\\GIS5571\\\\Lab2\\\\Lab 2 Part 2\\\\Lab 2 Part 2.gdb\\\\dnr_rivers_and_streams_Buffe'>"
      ]
     },
     "execution_count": 2,
     "metadata": {},
     "output_type": "execute_result"
    }
   ],
   "source": [
    "# buffer waterways layer\n",
    "arcpy.analysis.Buffer(\"dnr_rivers_and_streams\", r\"C:\\Users\\Holly Leaf\\GIS5571\\Lab2\\Lab 2 Part 2\\Lab 2 Part 2.gdb\\dnr_rivers_and_streams_Buffe\", \"5 Feet\", \"FULL\", \"ROUND\", \"NONE\", None, \"PLANAR\")"
   ]
  },
  {
   "cell_type": "code",
   "execution_count": null,
   "metadata": {},
   "outputs": [],
   "source": [
    "# clips waterways buffer to study area\n",
    "arcpy.analysis.Clip(\"dnr_rivers_and_streams_Buffe\", \"study_area\", r\"C:\\Users\\Holly Leaf\\GIS5571\\Lab2\\Lab 2 Part 2\\Lab 2 Part 2.gdb\\dnr_rivers_and_streams_Buffe1\", None)"
   ]
  },
  {
   "cell_type": "code",
   "execution_count": null,
   "metadata": {},
   "outputs": [],
   "source": [
    "# clips roadways\n",
    "arcpy.analysis.Clip(\"SDW_TRANS.ROUTES\", \"study_area\", r\"C:\\Users\\Holly Leaf\\GIS5571\\Lab2\\Lab 2 Part 2\\Lab 2 Part 2.gdb\\SDW_TRANS_Clip\", None)"
   ]
  },
  {
   "cell_type": "code",
   "execution_count": null,
   "metadata": {},
   "outputs": [],
   "source": [
    "# buffers roadway layer\n",
    "arcpy.analysis.Buffer(\"SDW_TRANS_Clip\", r\"C:\\Users\\Holly Leaf\\GIS5571\\Lab2\\Lab 2 Part 2\\Lab 2 Part 2.gdb\\SDW_TRANS_Clip_Buffer\", \"10 Feet\", \"FULL\", \"ROUND\", \"NONE\", None, \"PLANAR\")"
   ]
  },
  {
   "cell_type": "code",
   "execution_count": null,
   "metadata": {},
   "outputs": [],
   "source": [
    "# erases roadway buffer from waterway buffer to account for bridges\n",
    "arcpy.analysis.Erase(\"Waterways_buffer\", \"SDW_TRANS_Clip_Buffer3\", r\"C:\\Users\\Holly Leaf\\GIS5571\\Lab2\\Lab 2 Part 2\\Lab 2 Part 2.gdb\\Waterways_buffer_Erase\", None)"
   ]
  }
 ],
 "metadata": {
  "kernelspec": {
   "display_name": "ArcGISPro",
   "language": "Python",
   "name": "python3"
  },
  "language_info": {
   "file_extension": ".py",
   "name": "python",
   "version": "3"
  }
 },
 "nbformat": 4,
 "nbformat_minor": 2
}
