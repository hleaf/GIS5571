{
 "cells": [
  {
   "cell_type": "code",
   "execution_count": null,
   "metadata": {},
   "outputs": [],
   "source": []
  },
  {
   "cell_type": "code",
   "execution_count": null,
   "metadata": {},
   "outputs": [],
   "source": [
    "import arcpy"
   ]
  },
  {
   "cell_type": "code",
   "execution_count": 2,
   "metadata": {},
   "outputs": [
    {
     "data": {
      "text/html": [
       "<h2>Output</h2>C:\\Users\\Holly Leaf\\GIS5571\\Lab2\\Lab 2 Part 2\\Lab 2 Part 2.gdb\\dnr_rivers_and_streams_Buffe<h2>Messages</h2>Start Time: Wednesday, October 27, 2021 10:29:56 AM<br/>Succeeded at Wednesday, October 27, 2021 10:31:56 AM (Elapsed Time: 1 minutes 59 seconds)<br/><style>.rendered_html td, .rendered_html th {text-align: left;}.rendered_html tbody {border: 1px solid black;}</style>"
      ],
      "text/plain": [
       "<Result 'C:\\\\Users\\\\Holly Leaf\\\\GIS5571\\\\Lab2\\\\Lab 2 Part 2\\\\Lab 2 Part 2.gdb\\\\dnr_rivers_and_streams_Buffe'>"
      ]
     },
     "execution_count": 2,
     "metadata": {},
     "output_type": "execute_result"
    }
   ],
   "source": [
    "# buffer waterways layer\n",
    "arcpy.analysis.Buffer(\"dnr_rivers_and_streams\", r\"C:\\Users\\Holly Leaf\\GIS5571\\Lab2\\Lab 2 Part 2\\Lab 2 Part 2.gdb\\dnr_rivers_and_streams_Buffe\", \"5 Feet\", \"FULL\", \"ROUND\", \"NONE\", None, \"PLANAR\")"
   ]
  },
  {
   "cell_type": "code",
   "execution_count": 5,
   "metadata": {},
   "outputs": [
    {
     "ename": "ExecuteError",
     "evalue": "Failed to execute. Parameters are not valid.\nERROR 000670: output Output Feature Class is same as input Input Features\nFailed to execute (Clip).\n",
     "output_type": "error",
     "traceback": [
      "\u001b[0;31m---------------------------------------------------------------------------\u001b[0m\n\u001b[0;31mExecuteError\u001b[0m                              Traceback (most recent call last)",
      "In  \u001b[0;34m[5]\u001b[0m:\nLine \u001b[0;34m2\u001b[0m:     arcpy.analysis.Clip(\u001b[33m\"\u001b[39;49;00m\u001b[33mdnr_rivers_and_streams_Buffe\u001b[39;49;00m\u001b[33m\"\u001b[39;49;00m, \u001b[33m\"\u001b[39;49;00m\u001b[33mstudy_area\u001b[39;49;00m\u001b[33m\"\u001b[39;49;00m, \u001b[33mr\u001b[39;49;00m\u001b[33m\"\u001b[39;49;00m\u001b[33mC:\u001b[39;49;00m\u001b[33m\\\u001b[39;49;00m\u001b[33mUsers\u001b[39;49;00m\u001b[33m\\\u001b[39;49;00m\u001b[33mHolly Leaf\u001b[39;49;00m\u001b[33m\\\u001b[39;49;00m\u001b[33mGIS5571\u001b[39;49;00m\u001b[33m\\\u001b[39;49;00m\u001b[33mLab2\u001b[39;49;00m\u001b[33m\\\u001b[39;49;00m\u001b[33mLab 2 Part 2\u001b[39;49;00m\u001b[33m\\\u001b[39;49;00m\u001b[33mLab 2 Part 2.gdb\u001b[39;49;00m\u001b[33m\\\u001b[39;49;00m\u001b[33mdnr_rivers_and_streams_Buffe\u001b[39;49;00m\u001b[33m\"\u001b[39;49;00m, \u001b[34mNone\u001b[39;49;00m)\n",
      "File \u001b[0;34mc:\\program files\\arcgis\\pro\\Resources\\arcpy\\arcpy\\analysis.py\u001b[0m, in \u001b[0;32mClip\u001b[0m:\nLine \u001b[0;34m113\u001b[0m:   \u001b[34mraise\u001b[39;49;00m e\n",
      "File \u001b[0;34mc:\\program files\\arcgis\\pro\\Resources\\arcpy\\arcpy\\analysis.py\u001b[0m, in \u001b[0;32mClip\u001b[0m:\nLine \u001b[0;34m110\u001b[0m:   retval = convertArcObjectToPythonObject(gp.Clip_analysis(*gp_fixargs((in_features, clip_features, out_feature_class, cluster_tolerance), \u001b[34mTrue\u001b[39;49;00m)))\n",
      "File \u001b[0;34mc:\\program files\\arcgis\\pro\\Resources\\arcpy\\arcpy\\geoprocessing\\_base.py\u001b[0m, in \u001b[0;32m<lambda>\u001b[0m:\nLine \u001b[0;34m511\u001b[0m:   \u001b[34mreturn\u001b[39;49;00m \u001b[34mlambda\u001b[39;49;00m *args: val(*gp_fixargs(args, \u001b[34mTrue\u001b[39;49;00m))\n",
      "\u001b[0;31mExecuteError\u001b[0m: Failed to execute. Parameters are not valid.\nERROR 000670: output Output Feature Class is same as input Input Features\nFailed to execute (Clip).\n\n\u001b[0;31m---------------------------------------------------------------------------\u001b[0m"
     ]
    }
   ],
   "source": [
    "# clips waterways buffer to study area\n",
    "arcpy.analysis.Clip(\"dnr_rivers_and_streams_Buffe\", \"study_area\", r\"C:\\Users\\Holly Leaf\\GIS5571\\Lab2\\Lab 2 Part 2\\Lab 2 Part 2.gdb\\dnr_rivers_and_streams_Buffe\", None)"
   ]
  },
  {
   "cell_type": "code",
   "execution_count": 7,
   "metadata": {},
   "outputs": [
    {
     "data": {
      "text/html": [
       "<h2>Output</h2>C:\\Users\\Holly Leaf\\GIS5571\\Lab2\\Lab 2 Part 2\\Lab 2 Part 2.gdb\\SDW_TRANS_Clip2<h2>Messages</h2>Start Time: Wednesday, October 27, 2021 10:37:57 AM<br/>Assembling Features...<br/>Reading Features...<br/>Cracking Features...<br/>Succeeded at Wednesday, October 27, 2021 10:37:57 AM (Elapsed Time: 0.37 seconds)<br/><style>.rendered_html td, .rendered_html th {text-align: left;}.rendered_html tbody {border: 1px solid black;}</style>"
      ],
      "text/plain": [
       "<Result 'C:\\\\Users\\\\Holly Leaf\\\\GIS5571\\\\Lab2\\\\Lab 2 Part 2\\\\Lab 2 Part 2.gdb\\\\SDW_TRANS_Clip2'>"
      ]
     },
     "execution_count": 7,
     "metadata": {},
     "output_type": "execute_result"
    }
   ],
   "source": [
    "# clips roadways\n",
    "arcpy.analysis.Clip(\"SDW_TRANS.ROUTES\", \"study_area\", r\"C:\\Users\\Holly Leaf\\GIS5571\\Lab2\\Lab 2 Part 2\\Lab 2 Part 2.gdb\\SDW_TRANS_Clip2\", None)"
   ]
  },
  {
   "cell_type": "code",
   "execution_count": 10,
   "metadata": {},
   "outputs": [
    {
     "data": {
      "text/html": [
       "<h2>Output</h2>C:\\Users\\Holly Leaf\\GIS5571\\Lab2\\Lab 2 Part 2\\Lab 2 Part 2.gdb\\SDW_TRANS_Clip_Buffer4<h2>Messages</h2>Start Time: Wednesday, October 27, 2021 10:38:39 AM<br/>Succeeded at Wednesday, October 27, 2021 10:38:39 AM (Elapsed Time: 0.44 seconds)<br/><style>.rendered_html td, .rendered_html th {text-align: left;}.rendered_html tbody {border: 1px solid black;}</style>"
      ],
      "text/plain": [
       "<Result 'C:\\\\Users\\\\Holly Leaf\\\\GIS5571\\\\Lab2\\\\Lab 2 Part 2\\\\Lab 2 Part 2.gdb\\\\SDW_TRANS_Clip_Buffer4'>"
      ]
     },
     "execution_count": 10,
     "metadata": {},
     "output_type": "execute_result"
    }
   ],
   "source": [
    "# buffers roadway layer\n",
    "arcpy.analysis.Buffer(\"SDW_TRANS_Clip2\", r\"C:\\Users\\Holly Leaf\\GIS5571\\Lab2\\Lab 2 Part 2\\Lab 2 Part 2.gdb\\SDW_TRANS_Clip_Buffer4\", \"10 Feet\", \"FULL\", \"ROUND\", \"NONE\", None, \"PLANAR\")"
   ]
  },
  {
   "cell_type": "code",
   "execution_count": 11,
   "metadata": {},
   "outputs": [
    {
     "data": {
      "text/html": [
       "<h2>Output</h2>C:\\Users\\Holly Leaf\\GIS5571\\Lab2\\Lab 2 Part 2\\Lab 2 Part 2.gdb\\Waterways_buffer_Erase_2<h2>Messages</h2>Start Time: Wednesday, October 27, 2021 10:39:22 AM<br/>Reading Features...<br/>Cracking Features...<br/>Assembling Features...<br/>Succeeded at Wednesday, October 27, 2021 10:39:23 AM (Elapsed Time: 0.95 seconds)<br/><style>.rendered_html td, .rendered_html th {text-align: left;}.rendered_html tbody {border: 1px solid black;}</style>"
      ],
      "text/plain": [
       "<Result 'C:\\\\Users\\\\Holly Leaf\\\\GIS5571\\\\Lab2\\\\Lab 2 Part 2\\\\Lab 2 Part 2.gdb\\\\Waterways_buffer_Erase_2'>"
      ]
     },
     "execution_count": 11,
     "metadata": {},
     "output_type": "execute_result"
    }
   ],
   "source": [
    "# erases roadway buffer from waterway buffer to account for bridges\n",
    "arcpy.analysis.Erase(\"dnr_waterways_buffer_Clip2\", \"SDW_TRANS_Clip_Buffer4\", r\"C:\\Users\\Holly Leaf\\GIS5571\\Lab2\\Lab 2 Part 2\\Lab 2 Part 2.gdb\\Waterways_buffer_Erase_2\", None)"
   ]
  },
  {
   "cell_type": "code",
   "execution_count": null,
   "metadata": {},
   "outputs": [],
   "source": [
    "# map algebra to create equal weight cost surface\n",
    "output_raster = arcpy.sa.RasterCalculator(' \"Reclass_Slope\" * 0.34 + \"Reclass_water2\" * 0.33 + \"Reclass_cropland2\" * 0.33'); output_raster.save(r\"c:\\Users\\holly leaf\\GIS5571\\Lab2\\lab 2 part 2\\lab 2 part 2.gdb\\cost_surface_eq_weight\")"
   ]
  },
  {
   "cell_type": "code",
   "execution_count": 2,
   "metadata": {},
   "outputs": [
    {
     "ename": "TypeError",
     "evalue": "RasterCalculator() missing 2 required positional arguments: 'input_names' and 'expression'",
     "output_type": "error",
     "traceback": [
      "\u001b[0;31m---------------------------------------------------------------------------\u001b[0m\n\u001b[0;31mTypeError\u001b[0m                                 Traceback (most recent call last)",
      "In  \u001b[0;34m[2]\u001b[0m:\nLine \u001b[0;34m2\u001b[0m:     output_raster = arcpy.sa.RasterCalculator(\u001b[33m'\u001b[39;49;00m\u001b[33m \u001b[39;49;00m\u001b[33m\"\u001b[39;49;00m\u001b[33mReclass_Slope\u001b[39;49;00m\u001b[33m\"\u001b[39;49;00m\u001b[33m * 0.2 + \u001b[39;49;00m\u001b[33m\"\u001b[39;49;00m\u001b[33mReclass_water2\u001b[39;49;00m\u001b[33m\"\u001b[39;49;00m\u001b[33m * 0.3 + \u001b[39;49;00m\u001b[33m\"\u001b[39;49;00m\u001b[33mReclass_cropland2\u001b[39;49;00m\u001b[33m\"\u001b[39;49;00m\u001b[33m * 0.5\u001b[39;49;00m\u001b[33m'\u001b[39;49;00m); output_raster.save(\u001b[33mr\u001b[39;49;00m\u001b[33m\"\u001b[39;49;00m\u001b[33mc:\u001b[39;49;00m\u001b[33m\\\u001b[39;49;00m\u001b[33mUsers\u001b[39;49;00m\u001b[33m\\\u001b[39;49;00m\u001b[33mholly leaf\u001b[39;49;00m\u001b[33m\\\u001b[39;49;00m\u001b[33mGIS5571\u001b[39;49;00m\u001b[33m\\\u001b[39;49;00m\u001b[33mLab2\u001b[39;49;00m\u001b[33m\\\u001b[39;49;00m\u001b[33mlab 2 part 2\u001b[39;49;00m\u001b[33m\\\u001b[39;49;00m\u001b[33mlab 2 part 2.gdb\u001b[39;49;00m\u001b[33m\\\u001b[39;49;00m\u001b[33mcost_surface_spring\u001b[39;49;00m\u001b[33m\"\u001b[39;49;00m)\n",
      "\u001b[0;31mTypeError\u001b[0m: RasterCalculator() missing 2 required positional arguments: 'input_names' and 'expression'\n\u001b[0;31m---------------------------------------------------------------------------\u001b[0m"
     ]
    }
   ],
   "source": [
    "# map algebra to create cost surface for spring with muddy cropland\n",
    "output_raster = arcpy.sa.RasterCalculator(' \"Reclass_Slope\" * 0.2 + \"Reclass_water2\" * 0.3 + \"Reclass_cropland2\" * 0.5'); output_raster.save(r\"c:\\Users\\holly leaf\\GIS5571\\Lab2\\lab 2 part 2\\lab 2 part 2.gdb\\cost_surface_spring\")"
   ]
  },
  {
   "cell_type": "code",
   "execution_count": null,
   "metadata": {},
   "outputs": [],
   "source": [
    "# map algebra to create cost surface for Dory wearing waders\n",
    "output_raster = arcpy.sa.RasterCalculator(' \"Reclass_Slope\" * 0.45 + \"Reclass_water2\" * 0.1 + \"Reclass_cropland2\" * 0.45'); output_raster.save(r\"c:\\Users\\holly leaf\\GIS5571\\Lab2\\lab 2 part 2\\lab 2 part 2.gdb\\cost_surface_waders\")"
   ]
  }
 ],
 "metadata": {
  "kernelspec": {
   "display_name": "ArcGISPro",
   "language": "Python",
   "name": "python3"
  },
  "language_info": {
   "file_extension": ".py",
   "name": "python",
   "version": "3"
  }
 },
 "nbformat": 4,
 "nbformat_minor": 2
}
