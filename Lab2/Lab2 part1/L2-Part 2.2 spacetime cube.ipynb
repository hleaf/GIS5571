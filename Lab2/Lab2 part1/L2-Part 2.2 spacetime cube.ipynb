{
 "cells": [
  {
   "cell_type": "code",
   "execution_count": 2,
   "metadata": {},
   "outputs": [],
   "source": [
    "import arcpy\n",
    "from zipfile import ZipFile"
   ]
  },
  {
   "cell_type": "code",
   "execution_count": 5,
   "metadata": {},
   "outputs": [],
   "source": [
    "with ZipFile('PRISM_ppt_30yr_normal_4kmM2_all_bil.zip', 'r') as zipObj:\n",
    "   # Extract all the contents of zip file to 'bil-all' directory\n",
    "   zipObj.extractall('bil-all')"
   ]
  },
  {
   "cell_type": "code",
   "execution_count": null,
   "metadata": {},
   "outputs": [],
   "source": [
    "#Creates new mosaic dataset\n",
    "arcpy.management.CreateMosaicDataset(r\"C:\\Users\\Holly Leaf\\GIS5571\\Lab2\\Lab2 part1\\Lab2 part1.gdb\", \"Mosaic_PRISM2\", \"GEOGCS['GCS_North_American_1983',DATUM['D_North_American_1983',SPHEROID['GRS_1980',6378137.0,298.257222101]],PRIMEM['Greenwich',0.0],UNIT['Degree',0.0174532925199433]]\", None, '', \"NONE\", None)"
   ]
  },
  {
   "cell_type": "code",
   "execution_count": null,
   "metadata": {},
   "outputs": [],
   "source": [
    "# Adds BIL files to mosaic dataset\n",
    "arcpy.management.AddRastersToMosaicDataset(\"Mosaic_PRISM2\", \"Raster Dataset\", r\"'C:\\Users\\Holly Leaf\\GIS5571\\Lab2\\Lab2 part1\\bil-all\\PRISM_ppt_30yr_normal_4kmM2_01_bil.bil';'C:\\Users\\Holly Leaf\\GIS5571\\Lab2\\Lab2 part1\\bil-all\\PRISM_ppt_30yr_normal_4kmM2_02_bil.bil';'C:\\Users\\Holly Leaf\\GIS5571\\Lab2\\Lab2 part1\\bil-all\\PRISM_ppt_30yr_normal_4kmM2_03_bil.bil';'C:\\Users\\Holly Leaf\\GIS5571\\Lab2\\Lab2 part1\\bil-all\\PRISM_ppt_30yr_normal_4kmM2_04_bil.bil';'C:\\Users\\Holly Leaf\\GIS5571\\Lab2\\Lab2 part1\\bil-all\\PRISM_ppt_30yr_normal_4kmM2_05_bil.bil';'C:\\Users\\Holly Leaf\\GIS5571\\Lab2\\Lab2 part1\\bil-all\\PRISM_ppt_30yr_normal_4kmM2_06_bil.bil';'C:\\Users\\Holly Leaf\\GIS5571\\Lab2\\Lab2 part1\\bil-all\\PRISM_ppt_30yr_normal_4kmM2_07_bil.bil';'C:\\Users\\Holly Leaf\\GIS5571\\Lab2\\Lab2 part1\\bil-all\\PRISM_ppt_30yr_normal_4kmM2_08_bil.bil';'C:\\Users\\Holly Leaf\\GIS5571\\Lab2\\Lab2 part1\\bil-all\\PRISM_ppt_30yr_normal_4kmM2_09_bil.bil';'C:\\Users\\Holly Leaf\\GIS5571\\Lab2\\Lab2 part1\\bil-all\\PRISM_ppt_30yr_normal_4kmM2_10_bil.bil';'C:\\Users\\Holly Leaf\\GIS5571\\Lab2\\Lab2 part1\\bil-all\\PRISM_ppt_30yr_normal_4kmM2_11_bil.bil';'C:\\Users\\Holly Leaf\\GIS5571\\Lab2\\Lab2 part1\\bil-all\\PRISM_ppt_30yr_normal_4kmM2_12_bil.bil'\", \"UPDATE_CELL_SIZES\", \"UPDATE_BOUNDARY\", \"UPDATE_OVERVIEWS\", None, 0, 1500, None, '', \"SUBFOLDERS\", \"ALLOW_DUPLICATES\", \"NO_PYRAMIDS\", \"CALCULATE_STATISTICS\", \"NO_THUMBNAILS\", '', \"NO_FORCE_SPATIAL_REFERENCE\", \"ESTIMATE_STATISTICS\", None, \"NO_PIXEL_CACHE\", r\"C:\\Users\\Holly Leaf\\AppData\\Local\\ESRI\\rasterproxies\\Mosaic_PRISM2\")"
   ]
  },
  {
   "cell_type": "code",
   "execution_count": null,
   "metadata": {},
   "outputs": [],
   "source": [
    "#Build Multidimensional Info from mosaic dataset\n",
    "arcpy.md.BuildMultidimensionalInfo(\"Mosaic_PRISM2\", \"Precipitation\", \"Date # #\", \"Precipitation # inches\")"
   ]
  },
  {
   "cell_type": "code",
   "execution_count": null,
   "metadata": {},
   "outputs": [],
   "source": [
    "#Make Multidimensional raster layer\n",
    "arcpy.md.MakeMultidimensionalRasterLayer(\"Mosaic_PRISM2\", \"Mosaic_PRISM2_MultidimLayer\", \"Precipitation\", \"ALL\", None, None, '', '', '', None, '', \"-125.020833333333 24.0625 -66.479166666662 49.937500000002\", \"DIMENSIONS\")"
   ]
  },
  {
   "cell_type": "code",
   "execution_count": null,
   "metadata": {},
   "outputs": [],
   "source": [
    "#Creates space time cube and saves to disk\n",
    "arcpy.stpm.CreateSpaceTimeCubeMDRasterLayer(\"Mosaic_PRISM2_MultidimLayer\", r\"C:\\Users\\Holly Leaf\\GIS5571\\Lab2\\Lab2 part1\\PRISM_spacetime-cube.nc\", \"ZEROS\")"
   ]
  }
 ],
 "metadata": {
  "kernelspec": {
   "display_name": "ArcGISPro",
   "language": "Python",
   "name": "python3"
  },
  "language_info": {
   "file_extension": ".py",
   "name": "python",
   "version": "3"
  }
 },
 "nbformat": 4,
 "nbformat_minor": 2
}
