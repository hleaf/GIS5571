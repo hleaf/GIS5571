{
 "cells": [
  {
   "cell_type": "code",
   "execution_count": null,
   "metadata": {},
   "outputs": [],
   "source": [
    "import arcpy\n",
    "import requests\n",
    "import os\n",
    "import arcgis\n",
    "from arcgis.gis import GIS\n",
    "import zipfile"
   ]
  },
  {
   "cell_type": "code",
   "execution_count": null,
   "metadata": {},
   "outputs": [],
   "source": [
    "#set workspace\n",
    "arcpy.CreateFileGDB_management(r'C:\\Users\\Holly Leaf\\GIS5571\\Final Project\\Stroad_Model_r1',\"stroad_model.gdb\") #creates file GDB in specified directory\n",
    "workspace = r\"stroad_model.gdb\"\n",
    "arcpy.env.workspace = workspace"
   ]
  },
  {
   "cell_type": "code",
   "execution_count": null,
   "metadata": {},
   "outputs": [],
   "source": [
    "#DATA DOWNLOADS\n",
    "\n",
    "#download transportation lane info from MN GEO\n",
    "url = \"https://resources.gisdata.mn.gov/pub/gdrs/data/pub/us_mn_state_dot/trans_lanes/fgdb_trans_lanes.zip\"\n",
    "r = requests.get(url, allow_redirects=True)\n",
    "open('fgdb_trans_lanes.zip', 'wb').write(r.content)\n",
    "\n",
    "#extract transportation lane info directory\n",
    "with zipfile.ZipFile('fgdb_trans_lanes.zip', 'r') as zip_ref:\n",
    "    zip_ref.extractall('fgdb_trans_lanes')"
   ]
  },
  {
   "cell_type": "code",
   "execution_count": null,
   "metadata": {},
   "outputs": [],
   "source": [
    "#download MnDOT Route Centerlines from MN GEO\n",
    "url = \"https://resources.gisdata.mn.gov/pub/gdrs/data/pub/us_mn_state_dot/trans_roads_centerlines/fgdb_trans_roads_centerlines.zip\"\n",
    "r = requests.get(url, allow_redirects=True)\n",
    "open('fgdb_trans_roads_centerlines.zip', 'wb').write(r.content)\n",
    "\n",
    "#extract MnDOT Route Centerlines directory\n",
    "with zipfile.ZipFile('fgdb_trans_roads_centerlines.zip', 'r') as zip_ref:\n",
    "    zip_ref.extractall('fgdb_trans_roads_centerlines')"
   ]
  },
  {
   "cell_type": "code",
   "execution_count": null,
   "metadata": {},
   "outputs": [],
   "source": [
    "#ADD DOWNLOADED FEATURE CLASSES\n",
    "\n",
    "#Add through lanes feature class\n",
    "arcpy.conversion.FeatureClassToFeatureClass(r\"\\fgdb_trans_lanes\\trans_lanes.gdb\\Through_Lanes_in_Minnesota\", workspace, \"Through_Lanes_in_Minnesota\", '', r'ROUTE_ID \"ROUTE_ID\" true true false 18 Text 0 0,First,#,\\fgdb_trans_lanes\\trans_lanes.gdb\\Through_Lanes_in_Minnesota,ROUTE_ID,0,18;FROM_MEASURE \"FROM_MEASURE\" true true false 8 Double 0 0,First,#,\\fgdb_trans_lanes\\trans_lanes.gdb\\Through_Lanes_in_Minnesota,FROM_MEASURE,-1,-1;TO_MEASURE \"TO_MEASURE\" true true false 8 Double 0 0,First,#,\\fgdb_trans_lanes\\trans_lanes.gdb\\Through_Lanes_in_Minnesota,TO_MEASURE,-1,-1;THROUGH_LANES \"THROUGH_LANES\" true false false 4 Long 0 0,First,#,\\fgdb_trans_lanes\\trans_lanes.gdb\\Through_Lanes_in_Minnesota,THROUGH_LANES,-1,-1;SE_ANNO_CAD_DATA \"SE_ANNO_CAD_DATA\" true true false 0 Blob 0 0,First,#,\\fgdb_trans_lanes\\trans_lanes.gdb\\Through_Lanes_in_Minnesota,SE_ANNO_CAD_DATA,-1,-1;SHAPE_Length \"SHAPE_Length\" false true true 8 Double 0 0,First,#,\\fgdb_trans_lanes\\trans_lanes.gdb\\Through_Lanes_in_Minnesota,SHAPE_Length,-1,-1', '')"
   ]
  },
  {
   "cell_type": "code",
   "execution_count": null,
   "metadata": {},
   "outputs": [],
   "source": [
    "#Add Route Centerlines feature class\n",
    "arcpy.conversion.FeatureClassToFeatureClass(r\"\\fgdb_trans_roads_centerlines\\trans_roads_centerlines.gdb\\Primary_Routes_in_Minnesota\",\\\n",
    "                                            workspace, \"Route_centerlines\", '', r'ROUTE_ID \"ROUTE_ID\" true true false 18 Text 0 0,First,#,\\fgdb_trans_roads_centerlines\\trans_roads_centerlines.gdb\\Primary_Routes_in_Minnesota,ROUTE_ID,0,18;ROUTE_NAME \"ROUTE_NAME\" true true false 50 Text 0 0,First,#,\\fgdb_trans_roads_centerlines\\trans_roads_centerlines.gdb\\Primary_Routes_in_Minnesota,ROUTE_NAME,0,50;ROUTE_LABEL \"ROUTE_LABEL\" true true false 25 Text 0 0,First,#,\\fgdb_trans_roads_centerlines\\trans_roads_centerlines.gdb\\Primary_Routes_in_Minnesota,ROUTE_LABEL,0,25;ROUTE_SIGN_LABEL \"ROUTE_SIGN_LABEL\" true true false 5 Text 0 0,First,#,\\fgdb_trans_roads_centerlines\\trans_roads_centerlines.gdb\\Primary_Routes_in_Minnesota,ROUTE_SIGN_LABEL,0,5;ROUTE_SYSTEM \"ROUTE_SYSTEM\" true true false 2 Text 0 0,First,#,\\Final Project_r1\\fgdb_trans_roads_centerlines\\trans_roads_centerlines.gdb\\Primary_Routes_in_Minnesota,ROUTE_SYSTEM,0,2;GNIS_FEATUREID \"GNIS_FEATUREID\" true true false 8 Double 0 0,First,#,\\fgdb_trans_roads_centerlines\\trans_roads_centerlines.gdb\\Primary_Routes_in_Minnesota,GNIS_FEATUREID,-1,-1;ROUTE_NUMBER \"ROUTE_NUMBER\" true true false 4 Text 0 0,First,#,\\fgdb_trans_roads_centerlines\\trans_roads_centerlines.gdb\\Primary_Routes_in_Minnesota,ROUTE_NUMBER,0,4;ROUTE_SUFFIX \"ROUTE_SUFFIX\" true true false 1 Text 0 0,First,#,\\fgdb_trans_roads_centerlines\\trans_roads_centerlines.gdb\\Primary_Routes_in_Minnesota,ROUTE_SUFFIX,0,1;TRAFFIC_DIRECTION \"TRAFFIC_DIRECTION\" true true false 1 Text 0 0,First,#,\\fgdb_trans_roads_centerlines\\trans_roads_centerlines.gdb\\Primary_Routes_in_Minnesota,TRAFFIC_DIRECTION,0,1;ROUTE_SIGNING \"ROUTE_SIGNING\" true true false 255 Text 0 0,First,#,\\fgdb_trans_roads_centerlines\\trans_roads_centerlines.gdb\\Primary_Routes_in_Minnesota,ROUTE_SIGNING,0,255;OWNERSHIP \"OWNERSHIP\" true true false 255 Text 0 0,First,#,\\fgdb_trans_roads_centerlines\\trans_roads_centerlines.gdb\\Primary_Routes_in_Minnesota,OWNERSHIP,0,255;ROUTE_QUALIFIER \"ROUTE_QUALIFIER\" true true false 255 Text 0 0,First,#,\\fgdb_trans_roads_centerlines\\trans_roads_centerlines.gdb\\Primary_Routes_in_Minnesota,ROUTE_QUALIFIER,0,255;SE_ANNO_CAD_DATA \"SE_ANNO_CAD_DATA\" true true false 0 Blob 0 0,First,#,\\fgdb_trans_roads_centerlines\\trans_roads_centerlines.gdb\\Primary_Routes_in_Minnesota,SE_ANNO_CAD_DATA,-1,-1;FROM_MEASURE \"FROM_MEASURE\" true true false 8 Double 0 0,First,#,\\fgdb_trans_roads_centerlines\\trans_roads_centerlines.gdb\\Primary_Routes_in_Minnesota,FROM_MEASURE,-1,-1;TO_MEASURE \"TO_MEASURE\" true true false 8 Double 0 0,First,#,\\fgdb_trans_roads_centerlines\\trans_roads_centerlines.gdb\\Primary_Routes_in_Minnesota,TO_MEASURE,-1,-1;SHAPE_Length \"SHAPE_Length\" false true true 8 Double 0 0,First,#,\\fgdb_trans_roads_centerlines\\trans_roads_centerlines.gdb\\Primary_Routes_in_Minnesota,SHAPE_Length,-1,-1', '')"
   ]
  },
  {
   "cell_type": "code",
   "execution_count": null,
   "metadata": {},
   "outputs": [],
   "source": [
    "#download and add Hennepin County address points feature class\n",
    "arcpy.conversion.FeatureClassToFeatureClass(\"https://gis.hennepin.us/arcgis/rest/services/HennepinData/LAND_PROPERTY/MapServer/0\", workspace, \"hennepin_cty_address_points\", '', 'ADD_ID_HC \"ADD_ID_HC\" true true false 4 Long 0 10,First,#,https://gis.hennepin.us/arcgis/rest/services/HennepinData/LAND_PROPERTY/MapServer/0,ADD_ID_HC,-1,-1;ANUMBER \"ANUMBER\" true true false 4 Long 0 10,First,#,https://gis.hennepin.us/arcgis/rest/services/HennepinData/LAND_PROPERTY/MapServer/0,ANUMBER,-1,-1;ANUMBERSUF \"ANUMBERSUF\" true true false 6 Text 0 0,First,#,https://gis.hennepin.us/arcgis/rest/services/HennepinData/LAND_PROPERTY/MapServer/0,ANUMBERSUF,0,6;ST_PRE_MOD \"ST_PRE_MOD\" true true false 10 Text 0 0,First,#,https://gis.hennepin.us/arcgis/rest/services/HennepinData/LAND_PROPERTY/MapServer/0,ST_PRE_MOD,0,10;ST_PRE_DIR \"ST_PRE_DIR\" true true false 9 Text 0 0,First,#,https://gis.hennepin.us/arcgis/rest/services/HennepinData/LAND_PROPERTY/MapServer/0,ST_PRE_DIR,0,9;ST_PRE_TYP \"ST_PRE_TYP\" true true false 24 Text 0 0,First,#,https://gis.hennepin.us/arcgis/rest/services/HennepinData/LAND_PROPERTY/MapServer/0,ST_PRE_TYP,0,24;ST_NAME \"ST_NAME\" true true false 50 Text 0 0,First,#,https://gis.hennepin.us/arcgis/rest/services/HennepinData/LAND_PROPERTY/MapServer/0,ST_NAME,0,50;ST_POS_TYP \"ST_POS_TYP\" true true false 20 Text 0 0,First,#,https://gis.hennepin.us/arcgis/rest/services/HennepinData/LAND_PROPERTY/MapServer/0,ST_POS_TYP,0,20;ST_POS_DIR \"ST_POS_DIR\" true true false 9 Text 0 0,First,#,https://gis.hennepin.us/arcgis/rest/services/HennepinData/LAND_PROPERTY/MapServer/0,ST_POS_DIR,0,9;ST_POS_MOD \"ST_POS_MOD\" true true false 12 Text 0 0,First,#,https://gis.hennepin.us/arcgis/rest/services/HennepinData/LAND_PROPERTY/MapServer/0,ST_POS_MOD,0,12;SUB_AD_TYP \"SUB_AD_TYP\" true true false 12 Text 0 0,First,#,https://gis.hennepin.us/arcgis/rest/services/HennepinData/LAND_PROPERTY/MapServer/0,SUB_AD_TYP,0,12;SUB_AD_ID \"SUB_AD_ID\" true true false 12 Text 0 0,First,#,https://gis.hennepin.us/arcgis/rest/services/HennepinData/LAND_PROPERTY/MapServer/0,SUB_AD_ID,0,12;CONCAT_AD \"CONCAT_AD\" true true false 100 Text 0 0,First,#,https://gis.hennepin.us/arcgis/rest/services/HennepinData/LAND_PROPERTY/MapServer/0,CONCAT_AD,0,100;MUNI_NAME \"MUNI_NAME\" true true false 30 Text 0 0,First,#,https://gis.hennepin.us/arcgis/rest/services/HennepinData/LAND_PROPERTY/MapServer/0,MUNI_NAME,0,30;ZIP \"ZIP\" true true false 5 Text 0 0,First,#,https://gis.hennepin.us/arcgis/rest/services/HennepinData/LAND_PROPERTY/MapServer/0,ZIP,0,5;ZIP4 \"ZIP4\" true true false 4 Text 0 0,First,#,https://gis.hennepin.us/arcgis/rest/services/HennepinData/LAND_PROPERTY/MapServer/0,ZIP4,0,4;LANDMARK_1 \"LANDMARK1\" true true false 40 Text 0 0,First,#,https://gis.hennepin.us/arcgis/rest/services/HennepinData/LAND_PROPERTY/MapServer/0,LANDMARK_1,0,40;LANDMARK_2 \"LANDMARK2\" true true false 40 Text 0 0,First,#,https://gis.hennepin.us/arcgis/rest/services/HennepinData/LAND_PROPERTY/MapServer/0,LANDMARK_2,0,40;FLR_LVL \"FLR_LVL\" true true false 4 Long 0 10,First,#,https://gis.hennepin.us/arcgis/rest/services/HennepinData/LAND_PROPERTY/MapServer/0,FLR_LVL,-1,-1;ADD_TYPE \"ADD_TYPE\" true true false 16 Text 0 0,First,#,https://gis.hennepin.us/arcgis/rest/services/HennepinData/LAND_PROPERTY/MapServer/0,ADD_TYPE,0,16;LONGITUDE \"LONGITUDE\" true true false 8 Double 8 38,First,#,https://gis.hennepin.us/arcgis/rest/services/HennepinData/LAND_PROPERTY/MapServer/0,LONGITUDE,-1,-1;LATITUDE \"LATITUDE\" true true false 8 Double 8 38,First,#,https://gis.hennepin.us/arcgis/rest/services/HennepinData/LAND_PROPERTY/MapServer/0,LATITUDE,-1,-1;PID \"PID\" true true false 13 Text 0 0,First,#,https://gis.hennepin.us/arcgis/rest/services/HennepinData/LAND_PROPERTY/MapServer/0,PID,0,13;GlobalID \"GlobalID\" false false true 38 GlobalID 0 0,First,#,https://gis.hennepin.us/arcgis/rest/services/HennepinData/LAND_PROPERTY/MapServer/0,GlobalID,-1,-1', '')"
   ]
  },
  {
   "cell_type": "code",
   "execution_count": null,
   "metadata": {},
   "outputs": [],
   "source": [
    "#download and add MPLS Speed Limits feature class\n",
    "arcpy.conversion.FeatureClassToFeatureClass(\"https://services.arcgis.com/afSMGVsC7QlRK1kZ/arcgis/rest/services/Updated_Speed_Limits_Dec_2020/FeatureServer/0\", workspace, \"MPLS_Speed_Limit\", '', '', '')"
   ]
  },
  {
   "cell_type": "code",
   "execution_count": null,
   "metadata": {},
   "outputs": [],
   "source": [
    "#download and add Minneapolis city boundary feature class\n",
    "arcpy.conversion.FeatureClassToFeatureClass(\"https://services.arcgis.com/afSMGVsC7QlRK1kZ/arcgis/rest/services/msvcGIS_MinneapolisCityLimits/FeatureServer/0\", workspace, \"MPLS_city_boundary\", '', 'NAME \"NAME\" true true false 50 Text 0 0,First,#,https://services.arcgis.com/afSMGVsC7QlRK1kZ/arcgis/rest/services/msvcGIS_MinneapolisCityLimits/FeatureServer/0,NAME,0,50;Shape__Area \"Shape__Area\" false true true 0 Double 0 0,First,#,https://services.arcgis.com/afSMGVsC7QlRK1kZ/arcgis/rest/services/msvcGIS_MinneapolisCityLimits/FeatureServer/0,Shape__Area,-1,-1;Shape__Length \"Shape__Length\" false true true 0 Double 0 0,First,#,https://services.arcgis.com/afSMGVsC7QlRK1kZ/arcgis/rest/services/msvcGIS_MinneapolisCityLimits/FeatureServer/0,Shape__Length,-1,-1', '')"
   ]
  },
  {
   "cell_type": "code",
   "execution_count": null,
   "metadata": {},
   "outputs": [],
   "source": [
    "# Clip road centerlines to Minneapolis city boundary\n",
    "arcpy.analysis.Clip(\"Route_centerlines\", \"MPLS_city_boundary\", r\"stroad_model.gdb\\Route_centerlines_MPLS\", None)\n",
    "\n",
    "#Clip through lane info\n",
    "arcpy.analysis.Clip(\"Through_Lanes_in_Minnesota\", \"MPLS_city_boundary\", r\"stroad_model.gdb\\Through_Lanes_in_MPLS\", None)\n",
    "\n",
    "#clip Hennepin County address points\n",
    "arcpy.analysis.Clip(\"hennepin_cty_address_points\", \"MPLS_city_boundary\", r\"stroad_model.gdb\\MPLS_address_points\", None)"
   ]
  },
  {
   "cell_type": "code",
   "execution_count": null,
   "metadata": {},
   "outputs": [],
   "source": [
    "# join Through Lane field to Route centerlines feature\n",
    "arcpy.management.AddJoin(\"Route_centerlines_MPLS\", \"ROUTE_ID\", \"Through_Lanes_in_MPLS\", \"ROUTE_ID\")"
   ]
  },
  {
   "cell_type": "code",
   "execution_count": null,
   "metadata": {},
   "outputs": [],
   "source": [
    "# Split road segments at intersections with FeatureToLine\n",
    "arcpy.management.FeatureToLine(\"Route_centerlines_MPLS\", r\"\\stroad_model.gdb\\MPLS_road_segments\", None, \"ATTRIBUTES\")"
   ]
  },
  {
   "cell_type": "code",
   "execution_count": null,
   "metadata": {},
   "outputs": [],
   "source": [
    "# Spatial join speed limits to road segments\n",
    "arcpy.analysis.SpatialJoin(\"MPLS_road_segments\", \"MPLS_Speed_Limit\", r\"\\stroad_model.gdb\\MPLS_road_segments_speed_limit\",\\\n",
    "                           \"JOIN_ONE_TO_ONE\", \"KEEP_ALL\",'',\"INTERSECT\", None, '')"
   ]
  },
  {
   "cell_type": "code",
   "execution_count": null,
   "metadata": {},
   "outputs": [],
   "source": [
    "#select alleys\n",
    "arcpy.management.SelectLayerByAttribute(\"MPLS_road_segments_speed_limit\", \"NEW_SELECTION\", \"Route_centerlines_MPLS_ROUTE_LABEL LIKE 'ALY%'\", None)"
   ]
  },
  {
   "cell_type": "code",
   "execution_count": null,
   "metadata": {},
   "outputs": [],
   "source": [
    "#delete alleys\n",
    "arcpy.management.DeleteFeatures(\"MPLS_road_segments_speed_limit\")"
   ]
  },
  {
   "cell_type": "code",
   "execution_count": null,
   "metadata": {},
   "outputs": [],
   "source": [
    "# spatial join address points to road segments\n",
    "arcpy.analysis.SpatialJoin(\"MPLS_road_segments_speed_limit\", \"MPLS_address_points\", r\"stroad_model.gdb\\MPLS_road_segments_add_pts\", \\\n",
    "                           \"JOIN_ONE_TO_MANY\", \"KEEP_ALL\", \\\n",
    "                           'Join_Count \"Join_Count\" true true false 4 Long 0 0,First,#,MPLS_road_segments_speed_limit,Join_Count,-1,-1;TARGET_FID \"TARGET_FID\" true true false 4 Long 0 0,First,#,MPLS_road_segments_speed_limit,TARGET_FID,-1,-1;FID_Route_centerlines_MPLS_Through_Lanes_in_MPLS \"FID_Route_centerlines_MPLS_Through_Lanes_in_MPLS\" true true false 4 Long 0 0,First,#,MPLS_road_segments_speed_limit,FID_Route_centerlines_MPLS_Through_Lanes_in_MPLS,-1,-1;Route_centerlines_MPLS_ROUTE_ID \"ROUTE_ID\" true true false 18 Text 0 0,First,#,MPLS_road_segments_speed_limit,Route_centerlines_MPLS_ROUTE_ID,0,18;Route_centerlines_MPLS_ROUTE_NAME \"ROUTE_NAME\" true true false 50 Text 0 0,First,#,MPLS_road_segments_speed_limit,Route_centerlines_MPLS_ROUTE_NAME,0,50;Route_centerlines_MPLS_ROUTE_LABEL \"ROUTE_LABEL\" true true false 25 Text 0 0,First,#,MPLS_road_segments_speed_limit,Route_centerlines_MPLS_ROUTE_LABEL,0,25;Route_centerlines_MPLS_ROUTE_SIGN_LABEL \"ROUTE_SIGN_LABEL\" true true false 5 Text 0 0,First,#,MPLS_road_segments_speed_limit,Route_centerlines_MPLS_ROUTE_SIGN_LABEL,0,5;Route_centerlines_MPLS_ROUTE_SYSTEM \"ROUTE_SYSTEM\" true true false 2 Text 0 0,First,#,MPLS_road_segments_speed_limit,Route_centerlines_MPLS_ROUTE_SYSTEM,0,2;Route_centerlines_MPLS_GNIS_FEATUREID \"GNIS_FEATUREID\" true true false 8 Double 0 0,First,#,MPLS_road_segments_speed_limit,Route_centerlines_MPLS_GNIS_FEATUREID,-1,-1;Route_centerlines_MPLS_ROUTE_NUMBER \"ROUTE_NUMBER\" true true false 4 Text 0 0,First,#,MPLS_road_segments_speed_limit,Route_centerlines_MPLS_ROUTE_NUMBER,0,4;Route_centerlines_MPLS_ROUTE_SUFFIX \"ROUTE_SUFFIX\" true true false 1 Text 0 0,First,#,MPLS_road_segments_speed_limit,Route_centerlines_MPLS_ROUTE_SUFFIX,0,1;Route_centerlines_MPLS_TRAFFIC_DIRECTION \"TRAFFIC_DIRECTION\" true true false 1 Text 0 0,First,#,MPLS_road_segments_speed_limit,Route_centerlines_MPLS_TRAFFIC_DIRECTION,0,1;Route_centerlines_MPLS_ROUTE_SIGNING \"ROUTE_SIGNING\" true true false 255 Text 0 0,First,#,MPLS_road_segments_speed_limit,Route_centerlines_MPLS_ROUTE_SIGNING,0,255;Route_centerlines_MPLS_OWNERSHIP \"OWNERSHIP\" true true false 255 Text 0 0,First,#,MPLS_road_segments_speed_limit,Route_centerlines_MPLS_OWNERSHIP,0,255;Route_centerlines_MPLS_ROUTE_QUALIFIER \"ROUTE_QUALIFIER\" true true false 255 Text 0 0,First,#,MPLS_road_segments_speed_limit,Route_centerlines_MPLS_ROUTE_QUALIFIER,0,255;Route_centerlines_MPLS_SE_ANNO_CAD_DATA \"SE_ANNO_CAD_DATA\" true true false 0 Blob 0 0,First,#,MPLS_road_segments_speed_limit,Route_centerlines_MPLS_SE_ANNO_CAD_DATA,-1,-1;Route_centerlines_MPLS_FROM_MEASURE \"FROM_MEASURE\" true true false 8 Double 0 0,First,#,MPLS_road_segments_speed_limit,Route_centerlines_MPLS_FROM_MEASURE,-1,-1;Route_centerlines_MPLS_TO_MEASURE \"TO_MEASURE\" true true false 8 Double 0 0,First,#,MPLS_road_segments_speed_limit,Route_centerlines_MPLS_TO_MEASURE,-1,-1;Through_Lanes_in_MPLS_OBJECTID \"OBJECTID\" true true false 4 Long 0 0,First,#,MPLS_road_segments_speed_limit,Through_Lanes_in_MPLS_OBJECTID,-1,-1;Through_Lanes_in_MPLS_ROUTE_ID \"ROUTE_ID\" true true false 18 Text 0 0,First,#,MPLS_road_segments_speed_limit,Through_Lanes_in_MPLS_ROUTE_ID,0,18;Through_Lanes_in_MPLS_FROM_MEASURE \"FROM_MEASURE\" true true false 8 Double 0 0,First,#,MPLS_road_segments_speed_limit,Through_Lanes_in_MPLS_FROM_MEASURE,-1,-1;Through_Lanes_in_MPLS_TO_MEASURE \"TO_MEASURE\" true true false 8 Double 0 0,First,#,MPLS_road_segments_speed_limit,Through_Lanes_in_MPLS_TO_MEASURE,-1,-1;Through_Lanes_in_MPLS_THROUGH_LANES \"THROUGH_LANES\" true true false 4 Long 0 0,First,#,MPLS_road_segments_speed_limit,Through_Lanes_in_MPLS_THROUGH_LANES,-1,-1;Through_Lanes_in_MPLS_SE_ANNO_CAD_DATA \"SE_ANNO_CAD_DATA\" true true false 0 Blob 0 0,First,#,MPLS_road_segments_speed_limit,Through_Lanes_in_MPLS_SE_ANNO_CAD_DATA,-1,-1;MSA_MILEAG \"MSA_MILEAG\" true true false 4 Float 0 0,First,#,MPLS_road_segments_speed_limit,MSA_MILEAG,-1,-1;GBSID \"GBSID\" true true false 4 Long 0 0,First,#,MPLS_road_segments_speed_limit,GBSID,-1,-1;TRAFFIC_DI \"TRAFFIC_DI\" true true false 1 Text 0 0,First,#,MPLS_road_segments_speed_limit,TRAFFIC_DI,0,1;SPEED_LIM \"SPEED_LIM\" true true false 4 Long 0 0,First,#,MPLS_road_segments_speed_limit,SPEED_LIM,-1,-1;FUNC_CLASS \"FUNC_CLASS\" true true false 32 Text 0 0,First,#,MPLS_road_segments_speed_limit,FUNC_CLASS,0,32;TRUCK_ROUT \"TRUCK_ROUT\" true true false 32 Text 0 0,First,#,MPLS_road_segments_speed_limit,TRUCK_ROUT,0,32;BUS_ROUTE \"BUS_ROUTE\" true true false 1 Text 0 0,First,#,MPLS_road_segments_speed_limit,BUS_ROUTE,0,1;BRIDGE \"BRIDGE\" true true false 1 Text 0 0,First,#,MPLS_road_segments_speed_limit,BRIDGE,0,1;SEGMENT_LE \"SEGMENT_LE\" true true false 8 Double 0 0,First,#,MPLS_road_segments_speed_limit,SEGMENT_LE,-1,-1;JURISDICTI \"JURISDICTI\" true true false 12 Text 0 0,First,#,MPLS_road_segments_speed_limit,JURISDICTI,0,12;US_ROUTE_N \"US_ROUTE_N\" true true false 4 Text 0 0,First,#,MPLS_road_segments_speed_limit,US_ROUTE_N,0,4;US_ROUTE_1 \"US_ROUTE_1\" true true false 4 Text 0 0,First,#,MPLS_road_segments_speed_limit,US_ROUTE_1,0,4;ROUTE_TYPE \"ROUTE_TYPE\" true true false 8 Text 0 0,First,#,MPLS_road_segments_speed_limit,ROUTE_TYPE,0,8;ROUTE_NO \"ROUTE_NO\" true true false 8 Text 0 0,First,#,MPLS_road_segments_speed_limit,ROUTE_NO,0,8;STREET_T_N \"STREET_T_N\" true true false 30 Text 0 0,First,#,MPLS_road_segments_speed_limit,STREET_T_N,0,30;STREET_F_N \"STREET_F_N\" true true false 30 Text 0 0,First,#,MPLS_road_segments_speed_limit,STREET_F_N,0,30;STREET_O_N \"STREET_O_N\" true true false 30 Text 0 0,First,#,MPLS_road_segments_speed_limit,STREET_O_N,0,30;OFT \"OFT\" true true false 12 Text 0 0,First,#,MPLS_road_segments_speed_limit,OFT,0,12;SYMBOL_NAM \"SYMBOL_NAM\" true true false 32 Text 0 0,First,#,MPLS_road_segments_speed_limit,SYMBOL_NAM,0,32;STREET_TYP \"STREET_TYP\" true true false 20 Text 0 0,First,#,MPLS_road_segments_speed_limit,STREET_TYP,0,20;Shape_STLe \"Shape_STLe\" true true false 8 Double 0 0,First,#,MPLS_road_segments_speed_limit,Shape_STLe,-1,-1;ST_TYPE2 \"ST_TYPE2\" true true false 50 Text 0 0,First,#,MPLS_road_segments_speed_limit,ST_TYPE2,0,50;DATA_SOURC \"DATA_SOURC\" true true false 32 Text 0 0,First,#,MPLS_road_segments_speed_limit,DATA_SOURC,0,32;SPEED_NEW \"SPEED_NEW\" true true false 4 Long 0 0,First,#,MPLS_road_segments_speed_limit,SPEED_NEW,-1,-1;SpeedLim \"SpeedLimit\" true true false 4 Long 0 0,First,#,MPLS_road_segments_speed_limit,SpeedLim,-1,-1;Shape_Length_1 \"Shape_Length\" true true false 8 Double 0 0,First,#,MPLS_road_segments_speed_limit,Shape_Length_1,-1,-1;Shape_Length \"Shape_Length\" false true true 8 Double 0 0,First,#,MPLS_road_segments_speed_limit,Shape_Length,-1,-1;ADD_ID_HC \"ADD_ID_HC\" true true false 4 Long 0 0,First,#,MPLS_address_points,ADD_ID_HC,-1,-1;ANUMBER \"ANUMBER\" true true false 4 Long 0 0,First,#,MPLS_address_points,ANUMBER,-1,-1;ANUMBERSUF \"ANUMBERSUF\" true true false 6 Text 0 0,First,#,MPLS_address_points,ANUMBERSUF,0,6;ST_PRE_MOD \"ST_PRE_MOD\" true true false 10 Text 0 0,First,#,MPLS_address_points,ST_PRE_MOD,0,10;ST_PRE_DIR \"ST_PRE_DIR\" true true false 9 Text 0 0,First,#,MPLS_address_points,ST_PRE_DIR,0,9;ST_PRE_TYP \"ST_PRE_TYP\" true true false 24 Text 0 0,First,#,MPLS_address_points,ST_PRE_TYP,0,24;ST_NAME \"ST_NAME\" true true false 50 Text 0 0,First,#,MPLS_address_points,ST_NAME,0,50;ST_POS_TYP \"ST_POS_TYP\" true true false 20 Text 0 0,First,#,MPLS_address_points,ST_POS_TYP,0,20;ST_POS_DIR \"ST_POS_DIR\" true true false 9 Text 0 0,First,#,MPLS_address_points,ST_POS_DIR,0,9;ST_POS_MOD \"ST_POS_MOD\" true true false 12 Text 0 0,First,#,MPLS_address_points,ST_POS_MOD,0,12;SUB_AD_TYP \"SUB_AD_TYP\" true true false 12 Text 0 0,First,#,MPLS_address_points,SUB_AD_TYP,0,12;SUB_AD_ID \"SUB_AD_ID\" true true false 12 Text 0 0,First,#,MPLS_address_points,SUB_AD_ID,0,12;CONCAT_AD \"CONCAT_AD\" true true false 100 Text 0 0,First,#,MPLS_address_points,CONCAT_AD,0,100;MUNI_NAME \"MUNI_NAME\" true true false 30 Text 0 0,First,#,MPLS_address_points,MUNI_NAME,0,30;ZIP \"ZIP\" true true false 5 Text 0 0,First,#,MPLS_address_points,ZIP,0,5;ZIP4 \"ZIP4\" true true false 4 Text 0 0,First,#,MPLS_address_points,ZIP4,0,4;LANDMARK_1 \"LANDMARK1\" true true false 40 Text 0 0,First,#,MPLS_address_points,LANDMARK_1,0,40;LANDMARK_2 \"LANDMARK2\" true true false 40 Text 0 0,First,#,MPLS_address_points,LANDMARK_2,0,40;FLR_LVL \"FLR_LVL\" true true false 4 Long 0 0,First,#,MPLS_address_points,FLR_LVL,-1,-1;ADD_TYPE \"ADD_TYPE\" true true false 16 Text 0 0,First,#,MPLS_address_points,ADD_TYPE,0,16;LONGITUDE \"LONGITUDE\" true true false 8 Double 0 0,First,#,MPLS_address_points,LONGITUDE,-1,-1;LATITUDE \"LATITUDE\" true true false 8 Double 0 0,First,#,MPLS_address_points,LATITUDE,-1,-1;PID \"PID\" true true false 13 Text 0 0,First,#,MPLS_address_points,PID,0,13',\\\n",
    "                           \"WITHIN_A_DISTANCE\", \"40 Meters\", '')"
   ]
  },
  {
   "cell_type": "code",
   "execution_count": null,
   "metadata": {},
   "outputs": [],
   "source": [
    "# add and calculate address point density for road segments\n",
    "\n",
    "# calculate add_pt_density field\n",
    "newField = \"add_pt_density\"\n",
    "fieldCalc = \"!Join_Count_1! / !SHAPE_Length!\"\n",
    "arcpy.management.CalculateField(\"MPLS_road_segments_add_pts\", newField, fieldCalc, '', '', \"DOUBLE\", '')"
   ]
  },
  {
   "cell_type": "code",
   "execution_count": null,
   "metadata": {},
   "outputs": [],
   "source": [
    "# Reclassify Address point density field\n",
    "#arcpy.management.ReclassifyField(\"MPLS_road_segments_add_pts\", \"add_pt_density\", \"QUANTILE\", 10, None, \"ONE\", None, \"DESC\", \"add_pt_density_quantile\")\n",
    "    \n",
    "# Reclassify Speed Limits\n",
    "#arcpy.management.ReclassifyField(\"MPLS_road_segments_add_pts\", \"SPEED_NEW\", \"MANUAL\", 10, None, \"ONE\", \"21 1;26 2;31 3;36 4;41 5;46 6;51 7;56 8;61 9;100 10\", None, \"speed_class\")\n",
    "    \n",
    "# Reclassify Through Lanes\n",
    "arcpy.management.ReclassifyField(\"MPLS_road_segments_add_pts\", \"Through_Lanes_in_MPLS_THROUGH_LANES\", \"MANUAL\", 10, None, \"ONE\", \"1.1 1;2.1 4;3.1 7;4.1 8;20 10\", None, \"through_lanes_class\")"
   ]
  },
  {
   "cell_type": "code",
   "execution_count": null,
   "metadata": {},
   "outputs": [],
   "source": [
    "# calculate street classification from 1 to 10\n",
    "newField = \"ROAD_CLASS_SCORE\"\n",
    "fieldCalc = \"(float(!add_pt_density_quantile!) * 0.3333) + (float(!speed_class!) * 0.3333) + (float(!through_lanes_class!) * 0.3333)\"\n",
    "arcpy.management.CalculateField(\"MPLS_road_segments_add_pts\", newField, fieldCalc, '', '', \"FLOAT\", '')"
   ]
  },
  {
   "cell_type": "code",
   "execution_count": null,
   "metadata": {},
   "outputs": [],
   "source": [
    "# calculate street classification string field\n",
    "arcpy.management.CalculateField(\"MPLS_road_segments_add_pts\", \"ROAD_CLASS_STR\", \"Reclass(!ROAD_CLASS_SCORE!)\", \"PYTHON3\", \"\"\"def Reclass(ROAD_CLASS_SCORE):\n",
    "    if ROAD_CLASS_SCORE <= 3.5:\n",
    "        return str(\"Street\")\n",
    "    elif ROAD_CLASS_SCORE <= 6:\n",
    "        return str(\"Stroad\")\n",
    "    else:\n",
    "        return str(\"Road\")\"\"\", \"TEXT\", \"NO_ENFORCE_DOMAINS\")"
   ]
  }
 ],
 "metadata": {
  "kernelspec": {
   "display_name": "ArcGISPro",
   "language": "Python",
   "name": "python3"
  },
  "language_info": {
   "file_extension": ".py",
   "name": "python",
   "version": "3"
  }
 },
 "nbformat": 4,
 "nbformat_minor": 2
}
