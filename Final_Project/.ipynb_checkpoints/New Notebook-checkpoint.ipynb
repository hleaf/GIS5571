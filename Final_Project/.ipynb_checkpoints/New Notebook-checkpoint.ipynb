{
 "cells": [
  {
   "cell_type": "code",
   "execution_count": null,
   "metadata": {},
   "outputs": [],
   "source": [
    "# Clip road centerlines to Minneapolis city boundary\n",
    "arcpy.analysis.Clip(\"SDW_TRANS.ROUTES_PRIMARY\", \"Minneapolis City Boundary\", r\"C:\\Users\\Holly Leaf\\GIS5571\\Final Project\\Final Project_r1\\Final Project_r1.gdb\\SDW_TRANS_MPLS\", None)"
   ]
  }
 ],
 "metadata": {
  "kernelspec": {
   "display_name": "ArcGISPro",
   "language": "Python",
   "name": "python3"
  },
  "language_info": {
   "file_extension": ".py",
   "name": "python",
   "version": "3"
  }
 },
 "nbformat": 4,
 "nbformat_minor": 2
}
