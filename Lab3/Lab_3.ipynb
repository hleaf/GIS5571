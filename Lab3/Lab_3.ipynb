{
 "cells": [
  {
   "cell_type": "code",
   "execution_count": null,
   "metadata": {},
   "outputs": [],
   "source": [
    "# Run Cost Distance tool to create cost distance raster and backlink raster\n",
    "# for equal weight cost surface\n",
    "\n",
    "with arcpy.EnvManager(scratchWorkspace=r\"C:\\Users\\Holly Leaf\\My Drive\\School\\Fall 2021\\GIS 5571 - ArcGIS I\\Labs\\Lab_3\\Lab_3\\Lab 2 Part 2.gdb\", workspace=r\"C:\\Users\\Holly Leaf\\My Drive\\School\\Fall 2021\\GIS 5571 - ArcGIS I\\Labs\\Lab_3\\Lab_3\\Lab 2 Part 2.gdb\"):\n",
    "    out_distance_raster = arcpy.sa.CostDistance(\"Dory_Home\", \"cost_surface_eq_weight\", None, r\"C:\\Users\\Holly Leaf\\My Drive\\School\\Fall 2021\\GIS 5571 - ArcGIS I\\Labs\\Lab_3\\Lab_3\\Lab 2 Part 2.gdb\\Backlink_Dory1_eq_weight\", None, None, None, None, ''); out_distance_raster.save(r\"C:\\Users\\Holly Leaf\\My Drive\\School\\Fall 2021\\GIS 5571 - ArcGIS I\\Labs\\Lab_3\\Lab_3\\Lab 2 Part 2.gdb\\CostDis_Dory1_eq_weight\")\n",
    "\n",
    "# Run Cost Path tool to create cost path for equal weight cost surface    \n",
    "out_raster = arcpy.sa.CostPath(\"north_picnic_area\", \"CostDis_Dory1_eq_weight\", \"Backlink_Dory1_eq_weight\", \"BEST_SINGLE\", \"OBJECTID\", \"INPUT_RANGE\"); out_raster.save(r\"C:\\Users\\Holly Leaf\\My Drive\\School\\Fall 2021\\GIS 5571 - ArcGIS I\\Labs\\Lab_3\\Lab_3\\Lab 2 Part 2.gdb\\CostPath_eq_weight\")"
   ]
  },
  {
   "cell_type": "code",
   "execution_count": null,
   "metadata": {},
   "outputs": [],
   "source": [
    "# Run Cost Distance tool to create cost distance raster and backlink raster\n",
    "# for spring cost surface\n",
    "\n",
    "out_distance_raster = arcpy.sa.CostDistance(\"Dory_Home\", \"cost_surface_spring\", None, r\"C:\\Users\\Holly Leaf\\My Drive\\School\\Fall 2021\\GIS 5571 - ArcGIS I\\Labs\\Lab_3\\Lab_3\\Lab 2 Part 2.gdb\\Backlink_Dory2_spring\", None, None, None, None, ''); out_distance_raster.save(r\"C:\\Users\\Holly Leaf\\My Drive\\School\\Fall 2021\\GIS 5571 - ArcGIS I\\Labs\\Lab_3\\Lab_3\\Lab 2 Part 2.gdb\\CostDis_Dory2_spring\")\n",
    "\n",
    "# Run Cost Path tool to create cost path for spring cost surface    \n",
    "out_raster = arcpy.sa.CostPath(\"north_picnic_area\", \"CostDis_Dory2_spring\", \"Backlink_Dory2_spring\", \"BEST_SINGLE\", \"OBJECTID\", \"INPUT_RANGE\"); out_raster.save(r\"C:\\Users\\Holly Leaf\\My Drive\\School\\Fall 2021\\GIS 5571 - ArcGIS I\\Labs\\Lab_3\\Lab_3\\Lab 2 Part 2.gdb\\CostPath_spring\")"
   ]
  },
  {
   "cell_type": "code",
   "execution_count": null,
   "metadata": {},
   "outputs": [],
   "source": [
    "# Run Cost Distance tool to create cost distance raster and backlink raster\n",
    "# for waders cost surface\n",
    "\n",
    "out_distance_raster = arcpy.sa.CostDistance(\"Dory_Home\", \"cost_surface_waders\", None, r\"C:\\Users\\Holly Leaf\\My Drive\\School\\Fall 2021\\GIS 5571 - ArcGIS I\\Labs\\Lab_3\\Lab_3\\Lab 2 Part 2.gdb\\Backlink_Dory3_waders\", None, None, None, None, ''); out_distance_raster.save(r\"C:\\Users\\Holly Leaf\\My Drive\\School\\Fall 2021\\GIS 5571 - ArcGIS I\\Labs\\Lab_3\\Lab_3\\Lab 2 Part 2.gdb\\CostDis_Dory3_waders\")\n",
    "\n",
    "# Run Cost Path tool to create cost path for waders cost surface    \n",
    "out_raster = arcpy.sa.CostPath(\"north_picnic_area\", \"CostDis_Dory3_waders\", \"Backlink_Dory3_waders\", \"BEST_SINGLE\", \"OBJECTID\", \"INPUT_RANGE\"); out_raster.save(r\"C:\\Users\\Holly Leaf\\My Drive\\School\\Fall 2021\\GIS 5571 - ArcGIS I\\Labs\\Lab_3\\Lab_3\\Lab 2 Part 2.gdb\\CostPath_waders\")"
   ]
  }
 ],
 "metadata": {
  "kernelspec": {
   "display_name": "ArcGISPro",
   "language": "Python",
   "name": "python3"
  },
  "language_info": {
   "file_extension": ".py",
   "name": "python",
   "version": "3"
  }
 },
 "nbformat": 4,
 "nbformat_minor": 2
}
